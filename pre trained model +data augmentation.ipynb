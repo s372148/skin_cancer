{
 "cells": [
  {
   "cell_type": "code",
   "execution_count": 2,
   "id": "912390f5",
   "metadata": {},
   "outputs": [],
   "source": [
    "import os\n",
    "from glob import glob\n",
    "from tensorflow import keras as ks\n",
    "import pandas as pd\n",
    "import numpy as np\n",
    "from PIL import Image\n",
    "import matplotlib.pyplot as plt\n",
    "from sklearn.model_selection import train_test_split\n",
    "from tensorflow.keras.preprocessing.image import ImageDataGenerator,array_to_img,img_to_array,load_img\n"
   ]
  },
  {
   "cell_type": "code",
   "execution_count": null,
   "id": "41e07ccd",
   "metadata": {},
   "outputs": [],
   "source": [
    "imageid_path_dict = {os.path.splitext(os.path.basename(x))[0]:x for x in glob(os.path.join('../skin/image','*','*'))}\n",
    "imageid_path_dict"
   ]
  },
  {
   "cell_type": "code",
   "execution_count": null,
   "id": "7b9c7dc1",
   "metadata": {},
   "outputs": [],
   "source": [
    "df1=pd.read_csv(\"HAM10000_metadata.csv\")\n",
    "df1"
   ]
  },
  {
   "cell_type": "code",
   "execution_count": null,
   "id": "2bef575c",
   "metadata": {},
   "outputs": [],
   "source": [
    "df1['path']=df1['image_id'].map(imageid_path_dict.get)\n",
    "df1.head()"
   ]
  },
  {
   "cell_type": "code",
   "execution_count": null,
   "id": "8de14001",
   "metadata": {},
   "outputs": [],
   "source": [
    "df1['image_pixel'] = df1['path'].map(lambda x: np.asarray(Image.open(x).resize((32,32))))\n",
    "df1.head()"
   ]
  },
  {
   "cell_type": "code",
   "execution_count": null,
   "id": "517e4bb9",
   "metadata": {},
   "outputs": [],
   "source": [
    "label_mapping = {\n",
    "    'akiec':0,\n",
    "    'bcc':1,\n",
    "    'bkl':2,\n",
    "    'df':3,\n",
    "    'nv':4,\n",
    "    'vasc':5,\n",
    "    'mel':6}\n"
   ]
  },
  {
   "cell_type": "code",
   "execution_count": null,
   "id": "4c29a7a7",
   "metadata": {},
   "outputs": [],
   "source": [
    "df1['label']=df1['dx'].map(label_mapping.get)\n",
    "df1.head()"
   ]
  },
  {
   "cell_type": "code",
   "execution_count": null,
   "id": "932a3d2f",
   "metadata": {},
   "outputs": [],
   "source": [
    "x=df1['image_pixel'].to_numpy()\n",
    "x=np.stack(x,axis=0)\n",
    "x"
   ]
  },
  {
   "cell_type": "code",
   "execution_count": null,
   "id": "0951e4d4",
   "metadata": {},
   "outputs": [],
   "source": [
    "y=np.array(df1[\"label\"])\n",
    "y"
   ]
  },
  {
   "cell_type": "code",
   "execution_count": null,
   "id": "bc8e9d19",
   "metadata": {},
   "outputs": [],
   "source": [
    "x_train, x_test, y_train, y_test = train_test_split(df1['image_pixel'],df1['label'],test_size=0.2,random_state=999)"
   ]
  },
  {
   "cell_type": "code",
   "execution_count": null,
   "id": "db4e6799",
   "metadata": {},
   "outputs": [],
   "source": [
    "unique,counts=np.unique(y_train,return_counts=True)\n",
    "dict(zip(unique,counts))"
   ]
  },
  {
   "cell_type": "code",
   "execution_count": null,
   "id": "b6f0179b",
   "metadata": {},
   "outputs": [],
   "source": [
    "unique,counts=np.unique(y_test,return_counts=True)\n",
    "dict(zip(unique,counts))"
   ]
  },
  {
   "cell_type": "code",
   "execution_count": null,
   "id": "65bdd20a",
   "metadata": {},
   "outputs": [],
   "source": [
    "x_train, x_valid, y_train, y_valid = train_test_split(x_train,y_train,test_size=0.2,random_state=999)"
   ]
  },
  {
   "cell_type": "code",
   "execution_count": null,
   "id": "182c8376",
   "metadata": {},
   "outputs": [],
   "source": [
    "unique,counts=np.unique(y_train,return_counts=True)\n",
    "dict(zip(unique,counts))"
   ]
  },
  {
   "cell_type": "code",
   "execution_count": null,
   "id": "0f660509",
   "metadata": {},
   "outputs": [],
   "source": [
    "unique,counts=np.unique(y_valid,return_counts=True)\n",
    "dict(zip(unique,counts))"
   ]
  },
  {
   "cell_type": "code",
   "execution_count": null,
   "id": "e56a9e92",
   "metadata": {},
   "outputs": [],
   "source": [
    "#撈出pixel label\n",
    "df2=pd.concat([x_train, y_train],axis=1)\n",
    "df2"
   ]
  },
  {
   "cell_type": "code",
   "execution_count": null,
   "id": "114109f9",
   "metadata": {},
   "outputs": [],
   "source": [
    "#找出個別label 的 pixel\n",
    "train_lab0=df2.loc[df2[\"label\"]==0]\n",
    "train_lab1=df2.loc[df2[\"label\"]==1]\n",
    "train_lab2=df2.loc[df2[\"label\"]==2]\n",
    "train_lab3=df2.loc[df2[\"label\"]==3]\n",
    "train_lab4=df2.loc[df2[\"label\"]==4]\n",
    "train_lab5=df2.loc[df2[\"label\"]==5]\n",
    "train_lab6=df2.loc[df2[\"label\"]==6]"
   ]
  },
  {
   "cell_type": "code",
   "execution_count": null,
   "id": "4da463ba",
   "metadata": {},
   "outputs": [],
   "source": [
    "#將pixel變成array\n",
    "lab0_pixel=train_lab0['image_pixel'].to_numpy()\n",
    "lab0_pixel_array=np.stack(lab0_pixel,axis=0)\n",
    "\n",
    "lab1_pixel=train_lab1['image_pixel'].to_numpy()\n",
    "lab1_pixel_array=np.stack(lab1_pixel,axis=0)\n",
    "\n",
    "lab2_pixel=train_lab2['image_pixel'].to_numpy()\n",
    "lab2_pixel_array=np.stack(lab2_pixel,axis=0)\n",
    "\n",
    "lab3_pixel=train_lab3['image_pixel'].to_numpy()\n",
    "lab3_pixel_array=np.stack(lab3_pixel,axis=0)\n",
    "\n",
    "lab4_pixel=train_lab4['image_pixel'].to_numpy()\n",
    "lab4_pixel_array=np.stack(lab4_pixel,axis=0)\n",
    "\n",
    "lab5_pixel=train_lab5['image_pixel'].to_numpy()\n",
    "lab5_pixel_array=np.stack(lab5_pixel,axis=0)\n",
    "\n",
    "lab6_pixel=train_lab6['image_pixel'].to_numpy()\n",
    "lab6_pixel_array=np.stack(lab6_pixel,axis=0)"
   ]
  },
  {
   "cell_type": "code",
   "execution_count": null,
   "id": "d49c5cf1",
   "metadata": {},
   "outputs": [],
   "source": [
    "\n",
    "#Augmentating test Images and generating more images by performing a variety of image changes\n",
    "train_datagen = ImageDataGenerator( featurewise_center=False, \n",
    "        samplewise_center=False,  \n",
    "        featurewise_std_normalization=False,  \n",
    "        samplewise_std_normalization=False, \n",
    "        zca_whitening=False,  \n",
    "        rotation_range=10,  \n",
    "        zoom_range = 0.1,  \n",
    "       width_shift_range=0.12,  \n",
    "        height_shift_range=0.12,\n",
    "        horizontal_flip=True,  \n",
    "        vertical_flip=True)  \n",
    "\n"
   ]
  },
  {
   "cell_type": "code",
   "execution_count": null,
   "id": "e0f43f52",
   "metadata": {},
   "outputs": [],
   "source": [
    "unique,counts=np.unique(y_train,return_counts=True)\n",
    "dict(zip(unique,counts))"
   ]
  },
  {
   "cell_type": "code",
   "execution_count": null,
   "id": "112eb585",
   "metadata": {},
   "outputs": [],
   "source": [
    "#對 label 012356 資料擴增至4000個到個別資料夾\n",
    "# 0 >>10487\n",
    "i=0\n",
    "for batch in train_datagen.flow(lab0_pixel_array,batch_size=200,save_to_dir=\"transferlearning/label0\",save_prefix=\"cat\",save_format=\"jpg\"):\n",
    "    i+=1\n",
    "    if i>100:\n",
    "        break"
   ]
  },
  {
   "cell_type": "code",
   "execution_count": null,
   "id": "d5889555",
   "metadata": {},
   "outputs": [],
   "source": [
    "#1 >>10236\n",
    "i=0\n",
    "for batch in train_datagen.flow(lab1_pixel_array,batch_size=200,save_to_dir=\"transferlearning/label1\",save_prefix=\"cat\",save_format=\"jpg\"):\n",
    "    i+=1\n",
    "    if i>60:\n",
    "        break"
   ]
  },
  {
   "cell_type": "code",
   "execution_count": null,
   "id": "5d0a3d48",
   "metadata": {},
   "outputs": [],
   "source": [
    "#2 >> 10665\n",
    "i=0\n",
    "for batch in train_datagen.flow(lab2_pixel_array,batch_size=200,save_to_dir=\"transferlearning/label2\",save_prefix=\"cat\",save_format=\"jpg\"):\n",
    "    i+=1\n",
    "    if i>60:\n",
    "        break"
   ]
  },
  {
   "cell_type": "code",
   "execution_count": null,
   "id": "5a465859",
   "metadata": {},
   "outputs": [],
   "source": [
    "#3 >> 11086\n",
    "i=0\n",
    "for batch in train_datagen.flow(lab3_pixel_array,batch_size=200,save_to_dir=\"transferlearning/label3\",save_prefix=\"cat\",save_format=\"jpg\"):\n",
    "    i+=1\n",
    "    if i>150:\n",
    "        break"
   ]
  },
  {
   "cell_type": "code",
   "execution_count": null,
   "id": "564fdf21",
   "metadata": {},
   "outputs": [],
   "source": [
    "#4 >> 6102\n",
    "i=0\n",
    "for batch in train_datagen.flow(lab4_pixel_array,batch_size=200,save_to_dir=\"transferlearning/label4\",save_prefix=\"cat\",save_format=\"jpg\"):\n",
    "    i+=1\n",
    "    if i>30:\n",
    "        break"
   ]
  },
  {
   "cell_type": "code",
   "execution_count": null,
   "id": "5fecdd3d",
   "metadata": {},
   "outputs": [],
   "source": [
    "#5 >> 12300\n",
    "i=0\n",
    "for batch in train_datagen.flow(lab5_pixel_array,batch_size=200,save_to_dir=\"transferlearning/label5\",save_prefix=\"cat\",save_format=\"jpg\"):\n",
    "    i+=1\n",
    "    if i>150:\n",
    "        break"
   ]
  },
  {
   "cell_type": "code",
   "execution_count": null,
   "id": "c507871b",
   "metadata": {},
   "outputs": [],
   "source": [
    "#6 >> 10891\n",
    "i=0\n",
    "for batch in train_datagen.flow(lab6_pixel_array,batch_size=200,save_to_dir=\"transferlearning/label6\",save_prefix=\"cat\",save_format=\"jpg\"):\n",
    "    i+=1\n",
    "    if i>60:\n",
    "        break"
   ]
  },
  {
   "cell_type": "code",
   "execution_count": null,
   "id": "4a2d72b1",
   "metadata": {},
   "outputs": [],
   "source": [
    "#將擴增後的資料讀入 變成新的dataframe\n",
    "imageid_path_dict_label0 = {os.path.splitext(os.path.basename(x))[0]:x for x in glob(os.path.join('../skin/transferlearning/label0','*'))}\n",
    "a=[v for k,v in imageid_path_dict_label0.items()]\n",
    "temp_df0=pd.DataFrame(a)\n",
    "temp_df0['image_pixel'] = temp_df0[0].map(lambda x: np.asarray(Image.open(x).resize((32,32))))\n",
    "temp_df0['label']=0\n",
    "temp_df0_1=temp_df0.drop(0,axis=1)\n",
    "\n",
    "imageid_path_dict_label1= {os.path.splitext(os.path.basename(x))[0]:x for x in glob(os.path.join('../skin/transferlearning/label1','*'))}\n",
    "a=[v for k,v in imageid_path_dict_label1.items()]\n",
    "temp_df1=pd.DataFrame(a)\n",
    "temp_df1['image_pixel'] = temp_df1[0].map(lambda x: np.asarray(Image.open(x).resize((32,32))))\n",
    "temp_df1['label']=1\n",
    "temp_df1_1=temp_df1.drop(0,axis=1)\n",
    "\n",
    "imageid_path_dict_label2 = {os.path.splitext(os.path.basename(x))[0]:x for x in glob(os.path.join('../skin/transferlearning/label2','*'))}\n",
    "a=[v for k,v in imageid_path_dict_label2.items()]\n",
    "temp_df2=pd.DataFrame(a)\n",
    "temp_df2['image_pixel'] = temp_df2[0].map(lambda x: np.asarray(Image.open(x).resize((32,32))))\n",
    "temp_df2['label']=2\n",
    "temp_df2_1=temp_df2.drop(0,axis=1)\n",
    "\n",
    "imageid_path_dict_label3 = {os.path.splitext(os.path.basename(x))[0]:x for x in glob(os.path.join('../skin/transferlearning/label3','*'))}\n",
    "a=[v for k,v in imageid_path_dict_label3.items()]\n",
    "temp_df3=pd.DataFrame(a)\n",
    "temp_df3['image_pixel'] = temp_df3[0].map(lambda x: np.asarray(Image.open(x).resize((32,32))))\n",
    "temp_df3['label']=3\n",
    "temp_df3_1=temp_df3.drop(0,axis=1)\n",
    "\n",
    "imageid_path_dict_label4 = {os.path.splitext(os.path.basename(x))[0]:x for x in glob(os.path.join('../skin/transferlearning/label4','*'))}\n",
    "a=[v for k,v in imageid_path_dict_label4.items()]\n",
    "temp_df4=pd.DataFrame(a)\n",
    "temp_df4['image_pixel'] = temp_df4[0].map(lambda x: np.asarray(Image.open(x).resize((32,32))))\n",
    "temp_df4['label']=4\n",
    "temp_df4_1=temp_df4.drop(0,axis=1)\n",
    "\n",
    "imageid_path_dict_label5 = {os.path.splitext(os.path.basename(x))[0]:x for x in glob(os.path.join('../skin/transferlearning/label5','*'))}\n",
    "a=[v for k,v in imageid_path_dict_label5.items()]\n",
    "temp_df5=pd.DataFrame(a)\n",
    "temp_df5['image_pixel'] = temp_df5[0].map(lambda x: np.asarray(Image.open(x).resize((32,32))))\n",
    "temp_df5['label']=5\n",
    "temp_df5_1=temp_df5.drop(0,axis=1)\n",
    "\n",
    "\n",
    "imageid_path_dict_label6= {os.path.splitext(os.path.basename(x))[0]:x for x in glob(os.path.join('../skin/transferlearning/label6','*'))}\n",
    "a=[v for k,v in imageid_path_dict_label6.items()]\n",
    "temp_df6=pd.DataFrame(a)\n",
    "temp_df6['image_pixel'] = temp_df6[0].map(lambda x: np.asarray(Image.open(x).resize((32,32))))\n",
    "temp_df6['label']=6\n",
    "temp_df6_1=temp_df6.drop(0,axis=1)\n"
   ]
  },
  {
   "cell_type": "code",
   "execution_count": null,
   "id": "2f5da8c0",
   "metadata": {},
   "outputs": [],
   "source": [
    "#將擴增資料與原資料合併\n",
    "train_lab0_aug=pd.concat([train_lab0,temp_df0_1],axis=0)\n",
    "train_lab1_aug=pd.concat([train_lab1,temp_df1_1],axis=0)\n",
    "train_lab2_aug=pd.concat([train_lab2,temp_df2_1],axis=0)\n",
    "train_lab3_aug=pd.concat([train_lab3,temp_df3_1],axis=0)\n",
    "train_lab4_aug=pd.concat([train_lab4,temp_df4_1],axis=0)\n",
    "train_lab5_aug=pd.concat([train_lab5,temp_df5_1],axis=0)\n",
    "train_lab6_aug=pd.concat([train_lab6,temp_df6_1],axis=0)\n"
   ]
  },
  {
   "cell_type": "code",
   "execution_count": null,
   "id": "4950c5fc",
   "metadata": {},
   "outputs": [],
   "source": [
    "#將擴充資料與原資料和label4資料 合併成train\n",
    "train_aug=pd.concat([train_lab0_aug\n",
    "                     ,train_lab1_aug\n",
    "                     ,train_lab2_aug\n",
    "                     ,train_lab3_aug\n",
    "                     ,train_lab4_aug\n",
    "                     ,train_lab5_aug\n",
    "                     ,train_lab6_aug],axis=0)"
   ]
  },
  {
   "cell_type": "code",
   "execution_count": null,
   "id": "fb3260f6",
   "metadata": {},
   "outputs": [],
   "source": [
    "train_aug "
   ]
  },
  {
   "cell_type": "code",
   "execution_count": null,
   "id": "ae705a7b",
   "metadata": {},
   "outputs": [],
   "source": [
    "unique,counts=np.unique(train_aug['label'],return_counts=True)\n",
    "dict(zip(unique,counts))"
   ]
  },
  {
   "cell_type": "code",
   "execution_count": null,
   "id": "57d31251",
   "metadata": {},
   "outputs": [],
   "source": [
    "#將 tain 資料變成array\n",
    "x_train_array=train_aug['image_pixel'].to_numpy()\n",
    "x_valid_array=x_valid.to_numpy()\n",
    "x_test_array=x_test.to_numpy()\n",
    "\n",
    "x_train_array_stack=np.stack(x_train_array,axis=0)\n",
    "x_valid_array_stack=np.stack(x_valid_array,axis=0)\n",
    "x_test_array_stack=np.stack(x_test_array,axis=0)\n",
    "\n",
    "#normalize\n",
    "x_train_nor=x_train_array_stack/255\n",
    "x_valid_nor=x_valid_array_stack/255\n",
    "x_test_nor=x_test_array_stack/255"
   ]
  },
  {
   "cell_type": "code",
   "execution_count": null,
   "id": "27822adc",
   "metadata": {},
   "outputs": [],
   "source": [
    "#將label變成array\n",
    "y_train_label=np.array(train_aug['label'])\n",
    "y_valid_label=np.array(y_valid)\n",
    "y_test_label=np.array(y_test)"
   ]
  },
  {
   "cell_type": "code",
   "execution_count": 1,
   "id": "a1005e38",
   "metadata": {},
   "outputs": [],
   "source": [
    "from tensorflow.keras.utils import to_categorical\n",
    "from tensorflow.keras.models import Sequential\n",
    "from tensorflow.keras.layers import Conv2D, Flatten, Dense, MaxPooling2D,BatchNormalization,Dropout\n"
   ]
  },
  {
   "cell_type": "code",
   "execution_count": null,
   "id": "1827a28d",
   "metadata": {},
   "outputs": [],
   "source": [
    "#將label變成 one hot encoding\n",
    "y_train_oh=to_categorical(y_train_label,7)\n",
    "y_valid_oh=to_categorical(y_valid_label,7)\n",
    "y_test_oh=to_categorical(y_test_label,7)"
   ]
  },
  {
   "cell_type": "code",
   "execution_count": 45,
   "id": "6f3ce610",
   "metadata": {},
   "outputs": [],
   "source": [
    "#pretrained model mobilenet\n",
    "input_shape = (32,32,3)\n",
    "InMod=ks.applications.mobilenet_v2.MobileNetV2(include_top=False\n",
    "                                  ,weights='imagenet'\n",
    "                                  ,input_shape=input_shape)"
   ]
  },
  {
   "cell_type": "code",
   "execution_count": 46,
   "id": "efc983a2",
   "metadata": {},
   "outputs": [],
   "source": [
    "x = InMod.layers[-1].output\n",
    "x=Flatten()(x)\n",
    "x=Dropout(0.4)(x)\n",
    "x = Dense(7, activation='softmax', name='predictions')(x)\n",
    "\n",
    "# Create your own model \n",
    "model = ks.models.Model(InMod.input,x) \n"
   ]
  },
  {
   "cell_type": "code",
   "execution_count": 47,
   "id": "741b09b4",
   "metadata": {},
   "outputs": [],
   "source": [
    "#凍結最後?層之前的神經層\n",
    "for layer in model.layers[:-8]:\n",
    "    layer.trainable = False"
   ]
  },
  {
   "cell_type": "code",
   "execution_count": 48,
   "id": "86cd8778",
   "metadata": {},
   "outputs": [
    {
     "name": "stdout",
     "output_type": "stream",
     "text": [
      "Model: \"mobilenetv2_1.00_224\"\n",
      "__________________________________________________________________________________________________\n",
      "Layer (type)                    Output Shape         Param #     Connected to                     \n",
      "==================================================================================================\n",
      "input_10 (InputLayer)           [(None, 32, 32, 3)]  0                                            \n",
      "__________________________________________________________________________________________________\n",
      "Conv1_pad (ZeroPadding2D)       (None, 33, 33, 3)    0           input_10[0][0]                   \n",
      "__________________________________________________________________________________________________\n",
      "Conv1 (Conv2D)                  (None, 16, 16, 32)   864         Conv1_pad[0][0]                  \n",
      "__________________________________________________________________________________________________\n",
      "bn_Conv1 (BatchNormalization)   (None, 16, 16, 32)   128         Conv1[0][0]                      \n",
      "__________________________________________________________________________________________________\n",
      "Conv1_relu (ReLU)               (None, 16, 16, 32)   0           bn_Conv1[0][0]                   \n",
      "__________________________________________________________________________________________________\n",
      "expanded_conv_depthwise (Depthw (None, 16, 16, 32)   288         Conv1_relu[0][0]                 \n",
      "__________________________________________________________________________________________________\n",
      "expanded_conv_depthwise_BN (Bat (None, 16, 16, 32)   128         expanded_conv_depthwise[0][0]    \n",
      "__________________________________________________________________________________________________\n",
      "expanded_conv_depthwise_relu (R (None, 16, 16, 32)   0           expanded_conv_depthwise_BN[0][0] \n",
      "__________________________________________________________________________________________________\n",
      "expanded_conv_project (Conv2D)  (None, 16, 16, 16)   512         expanded_conv_depthwise_relu[0][0\n",
      "__________________________________________________________________________________________________\n",
      "expanded_conv_project_BN (Batch (None, 16, 16, 16)   64          expanded_conv_project[0][0]      \n",
      "__________________________________________________________________________________________________\n",
      "block_1_expand (Conv2D)         (None, 16, 16, 96)   1536        expanded_conv_project_BN[0][0]   \n",
      "__________________________________________________________________________________________________\n",
      "block_1_expand_BN (BatchNormali (None, 16, 16, 96)   384         block_1_expand[0][0]             \n",
      "__________________________________________________________________________________________________\n",
      "block_1_expand_relu (ReLU)      (None, 16, 16, 96)   0           block_1_expand_BN[0][0]          \n",
      "__________________________________________________________________________________________________\n",
      "block_1_pad (ZeroPadding2D)     (None, 17, 17, 96)   0           block_1_expand_relu[0][0]        \n",
      "__________________________________________________________________________________________________\n",
      "block_1_depthwise (DepthwiseCon (None, 8, 8, 96)     864         block_1_pad[0][0]                \n",
      "__________________________________________________________________________________________________\n",
      "block_1_depthwise_BN (BatchNorm (None, 8, 8, 96)     384         block_1_depthwise[0][0]          \n",
      "__________________________________________________________________________________________________\n",
      "block_1_depthwise_relu (ReLU)   (None, 8, 8, 96)     0           block_1_depthwise_BN[0][0]       \n",
      "__________________________________________________________________________________________________\n",
      "block_1_project (Conv2D)        (None, 8, 8, 24)     2304        block_1_depthwise_relu[0][0]     \n",
      "__________________________________________________________________________________________________\n",
      "block_1_project_BN (BatchNormal (None, 8, 8, 24)     96          block_1_project[0][0]            \n",
      "__________________________________________________________________________________________________\n",
      "block_2_expand (Conv2D)         (None, 8, 8, 144)    3456        block_1_project_BN[0][0]         \n",
      "__________________________________________________________________________________________________\n",
      "block_2_expand_BN (BatchNormali (None, 8, 8, 144)    576         block_2_expand[0][0]             \n",
      "__________________________________________________________________________________________________\n",
      "block_2_expand_relu (ReLU)      (None, 8, 8, 144)    0           block_2_expand_BN[0][0]          \n",
      "__________________________________________________________________________________________________\n",
      "block_2_depthwise (DepthwiseCon (None, 8, 8, 144)    1296        block_2_expand_relu[0][0]        \n",
      "__________________________________________________________________________________________________\n",
      "block_2_depthwise_BN (BatchNorm (None, 8, 8, 144)    576         block_2_depthwise[0][0]          \n",
      "__________________________________________________________________________________________________\n",
      "block_2_depthwise_relu (ReLU)   (None, 8, 8, 144)    0           block_2_depthwise_BN[0][0]       \n",
      "__________________________________________________________________________________________________\n",
      "block_2_project (Conv2D)        (None, 8, 8, 24)     3456        block_2_depthwise_relu[0][0]     \n",
      "__________________________________________________________________________________________________\n",
      "block_2_project_BN (BatchNormal (None, 8, 8, 24)     96          block_2_project[0][0]            \n",
      "__________________________________________________________________________________________________\n",
      "block_2_add (Add)               (None, 8, 8, 24)     0           block_1_project_BN[0][0]         \n",
      "                                                                 block_2_project_BN[0][0]         \n",
      "__________________________________________________________________________________________________\n",
      "block_3_expand (Conv2D)         (None, 8, 8, 144)    3456        block_2_add[0][0]                \n",
      "__________________________________________________________________________________________________\n",
      "block_3_expand_BN (BatchNormali (None, 8, 8, 144)    576         block_3_expand[0][0]             \n",
      "__________________________________________________________________________________________________\n",
      "block_3_expand_relu (ReLU)      (None, 8, 8, 144)    0           block_3_expand_BN[0][0]          \n",
      "__________________________________________________________________________________________________\n",
      "block_3_pad (ZeroPadding2D)     (None, 9, 9, 144)    0           block_3_expand_relu[0][0]        \n",
      "__________________________________________________________________________________________________\n",
      "block_3_depthwise (DepthwiseCon (None, 4, 4, 144)    1296        block_3_pad[0][0]                \n",
      "__________________________________________________________________________________________________\n",
      "block_3_depthwise_BN (BatchNorm (None, 4, 4, 144)    576         block_3_depthwise[0][0]          \n",
      "__________________________________________________________________________________________________\n",
      "block_3_depthwise_relu (ReLU)   (None, 4, 4, 144)    0           block_3_depthwise_BN[0][0]       \n",
      "__________________________________________________________________________________________________\n",
      "block_3_project (Conv2D)        (None, 4, 4, 32)     4608        block_3_depthwise_relu[0][0]     \n",
      "__________________________________________________________________________________________________\n",
      "block_3_project_BN (BatchNormal (None, 4, 4, 32)     128         block_3_project[0][0]            \n",
      "__________________________________________________________________________________________________\n",
      "block_4_expand (Conv2D)         (None, 4, 4, 192)    6144        block_3_project_BN[0][0]         \n",
      "__________________________________________________________________________________________________\n",
      "block_4_expand_BN (BatchNormali (None, 4, 4, 192)    768         block_4_expand[0][0]             \n",
      "__________________________________________________________________________________________________\n",
      "block_4_expand_relu (ReLU)      (None, 4, 4, 192)    0           block_4_expand_BN[0][0]          \n",
      "__________________________________________________________________________________________________\n",
      "block_4_depthwise (DepthwiseCon (None, 4, 4, 192)    1728        block_4_expand_relu[0][0]        \n",
      "__________________________________________________________________________________________________\n",
      "block_4_depthwise_BN (BatchNorm (None, 4, 4, 192)    768         block_4_depthwise[0][0]          \n",
      "__________________________________________________________________________________________________\n",
      "block_4_depthwise_relu (ReLU)   (None, 4, 4, 192)    0           block_4_depthwise_BN[0][0]       \n",
      "__________________________________________________________________________________________________\n",
      "block_4_project (Conv2D)        (None, 4, 4, 32)     6144        block_4_depthwise_relu[0][0]     \n",
      "__________________________________________________________________________________________________\n",
      "block_4_project_BN (BatchNormal (None, 4, 4, 32)     128         block_4_project[0][0]            \n",
      "__________________________________________________________________________________________________\n",
      "block_4_add (Add)               (None, 4, 4, 32)     0           block_3_project_BN[0][0]         \n",
      "                                                                 block_4_project_BN[0][0]         \n",
      "__________________________________________________________________________________________________\n",
      "block_5_expand (Conv2D)         (None, 4, 4, 192)    6144        block_4_add[0][0]                \n",
      "__________________________________________________________________________________________________\n",
      "block_5_expand_BN (BatchNormali (None, 4, 4, 192)    768         block_5_expand[0][0]             \n",
      "__________________________________________________________________________________________________\n",
      "block_5_expand_relu (ReLU)      (None, 4, 4, 192)    0           block_5_expand_BN[0][0]          \n",
      "__________________________________________________________________________________________________\n",
      "block_5_depthwise (DepthwiseCon (None, 4, 4, 192)    1728        block_5_expand_relu[0][0]        \n",
      "__________________________________________________________________________________________________\n",
      "block_5_depthwise_BN (BatchNorm (None, 4, 4, 192)    768         block_5_depthwise[0][0]          \n",
      "__________________________________________________________________________________________________\n",
      "block_5_depthwise_relu (ReLU)   (None, 4, 4, 192)    0           block_5_depthwise_BN[0][0]       \n",
      "__________________________________________________________________________________________________\n",
      "block_5_project (Conv2D)        (None, 4, 4, 32)     6144        block_5_depthwise_relu[0][0]     \n",
      "__________________________________________________________________________________________________\n",
      "block_5_project_BN (BatchNormal (None, 4, 4, 32)     128         block_5_project[0][0]            \n",
      "__________________________________________________________________________________________________\n",
      "block_5_add (Add)               (None, 4, 4, 32)     0           block_4_add[0][0]                \n",
      "                                                                 block_5_project_BN[0][0]         \n",
      "__________________________________________________________________________________________________\n",
      "block_6_expand (Conv2D)         (None, 4, 4, 192)    6144        block_5_add[0][0]                \n",
      "__________________________________________________________________________________________________\n",
      "block_6_expand_BN (BatchNormali (None, 4, 4, 192)    768         block_6_expand[0][0]             \n",
      "__________________________________________________________________________________________________\n",
      "block_6_expand_relu (ReLU)      (None, 4, 4, 192)    0           block_6_expand_BN[0][0]          \n",
      "__________________________________________________________________________________________________\n",
      "block_6_pad (ZeroPadding2D)     (None, 5, 5, 192)    0           block_6_expand_relu[0][0]        \n",
      "__________________________________________________________________________________________________\n",
      "block_6_depthwise (DepthwiseCon (None, 2, 2, 192)    1728        block_6_pad[0][0]                \n",
      "__________________________________________________________________________________________________\n",
      "block_6_depthwise_BN (BatchNorm (None, 2, 2, 192)    768         block_6_depthwise[0][0]          \n",
      "__________________________________________________________________________________________________\n",
      "block_6_depthwise_relu (ReLU)   (None, 2, 2, 192)    0           block_6_depthwise_BN[0][0]       \n",
      "__________________________________________________________________________________________________\n",
      "block_6_project (Conv2D)        (None, 2, 2, 64)     12288       block_6_depthwise_relu[0][0]     \n",
      "__________________________________________________________________________________________________\n",
      "block_6_project_BN (BatchNormal (None, 2, 2, 64)     256         block_6_project[0][0]            \n",
      "__________________________________________________________________________________________________\n",
      "block_7_expand (Conv2D)         (None, 2, 2, 384)    24576       block_6_project_BN[0][0]         \n",
      "__________________________________________________________________________________________________\n",
      "block_7_expand_BN (BatchNormali (None, 2, 2, 384)    1536        block_7_expand[0][0]             \n",
      "__________________________________________________________________________________________________\n",
      "block_7_expand_relu (ReLU)      (None, 2, 2, 384)    0           block_7_expand_BN[0][0]          \n",
      "__________________________________________________________________________________________________\n",
      "block_7_depthwise (DepthwiseCon (None, 2, 2, 384)    3456        block_7_expand_relu[0][0]        \n",
      "__________________________________________________________________________________________________\n",
      "block_7_depthwise_BN (BatchNorm (None, 2, 2, 384)    1536        block_7_depthwise[0][0]          \n",
      "__________________________________________________________________________________________________\n",
      "block_7_depthwise_relu (ReLU)   (None, 2, 2, 384)    0           block_7_depthwise_BN[0][0]       \n",
      "__________________________________________________________________________________________________\n",
      "block_7_project (Conv2D)        (None, 2, 2, 64)     24576       block_7_depthwise_relu[0][0]     \n",
      "__________________________________________________________________________________________________\n",
      "block_7_project_BN (BatchNormal (None, 2, 2, 64)     256         block_7_project[0][0]            \n",
      "__________________________________________________________________________________________________\n",
      "block_7_add (Add)               (None, 2, 2, 64)     0           block_6_project_BN[0][0]         \n",
      "                                                                 block_7_project_BN[0][0]         \n",
      "__________________________________________________________________________________________________\n",
      "block_8_expand (Conv2D)         (None, 2, 2, 384)    24576       block_7_add[0][0]                \n",
      "__________________________________________________________________________________________________\n",
      "block_8_expand_BN (BatchNormali (None, 2, 2, 384)    1536        block_8_expand[0][0]             \n",
      "__________________________________________________________________________________________________\n",
      "block_8_expand_relu (ReLU)      (None, 2, 2, 384)    0           block_8_expand_BN[0][0]          \n",
      "__________________________________________________________________________________________________\n",
      "block_8_depthwise (DepthwiseCon (None, 2, 2, 384)    3456        block_8_expand_relu[0][0]        \n",
      "__________________________________________________________________________________________________\n",
      "block_8_depthwise_BN (BatchNorm (None, 2, 2, 384)    1536        block_8_depthwise[0][0]          \n",
      "__________________________________________________________________________________________________\n",
      "block_8_depthwise_relu (ReLU)   (None, 2, 2, 384)    0           block_8_depthwise_BN[0][0]       \n",
      "__________________________________________________________________________________________________\n",
      "block_8_project (Conv2D)        (None, 2, 2, 64)     24576       block_8_depthwise_relu[0][0]     \n",
      "__________________________________________________________________________________________________\n",
      "block_8_project_BN (BatchNormal (None, 2, 2, 64)     256         block_8_project[0][0]            \n",
      "__________________________________________________________________________________________________\n",
      "block_8_add (Add)               (None, 2, 2, 64)     0           block_7_add[0][0]                \n",
      "                                                                 block_8_project_BN[0][0]         \n",
      "__________________________________________________________________________________________________\n",
      "block_9_expand (Conv2D)         (None, 2, 2, 384)    24576       block_8_add[0][0]                \n",
      "__________________________________________________________________________________________________\n",
      "block_9_expand_BN (BatchNormali (None, 2, 2, 384)    1536        block_9_expand[0][0]             \n",
      "__________________________________________________________________________________________________\n",
      "block_9_expand_relu (ReLU)      (None, 2, 2, 384)    0           block_9_expand_BN[0][0]          \n",
      "__________________________________________________________________________________________________\n",
      "block_9_depthwise (DepthwiseCon (None, 2, 2, 384)    3456        block_9_expand_relu[0][0]        \n",
      "__________________________________________________________________________________________________\n",
      "block_9_depthwise_BN (BatchNorm (None, 2, 2, 384)    1536        block_9_depthwise[0][0]          \n",
      "__________________________________________________________________________________________________\n",
      "block_9_depthwise_relu (ReLU)   (None, 2, 2, 384)    0           block_9_depthwise_BN[0][0]       \n",
      "__________________________________________________________________________________________________\n",
      "block_9_project (Conv2D)        (None, 2, 2, 64)     24576       block_9_depthwise_relu[0][0]     \n",
      "__________________________________________________________________________________________________\n",
      "block_9_project_BN (BatchNormal (None, 2, 2, 64)     256         block_9_project[0][0]            \n",
      "__________________________________________________________________________________________________\n",
      "block_9_add (Add)               (None, 2, 2, 64)     0           block_8_add[0][0]                \n",
      "                                                                 block_9_project_BN[0][0]         \n",
      "__________________________________________________________________________________________________\n",
      "block_10_expand (Conv2D)        (None, 2, 2, 384)    24576       block_9_add[0][0]                \n",
      "__________________________________________________________________________________________________\n",
      "block_10_expand_BN (BatchNormal (None, 2, 2, 384)    1536        block_10_expand[0][0]            \n",
      "__________________________________________________________________________________________________\n",
      "block_10_expand_relu (ReLU)     (None, 2, 2, 384)    0           block_10_expand_BN[0][0]         \n",
      "__________________________________________________________________________________________________\n",
      "block_10_depthwise (DepthwiseCo (None, 2, 2, 384)    3456        block_10_expand_relu[0][0]       \n",
      "__________________________________________________________________________________________________\n",
      "block_10_depthwise_BN (BatchNor (None, 2, 2, 384)    1536        block_10_depthwise[0][0]         \n",
      "__________________________________________________________________________________________________\n",
      "block_10_depthwise_relu (ReLU)  (None, 2, 2, 384)    0           block_10_depthwise_BN[0][0]      \n",
      "__________________________________________________________________________________________________\n",
      "block_10_project (Conv2D)       (None, 2, 2, 96)     36864       block_10_depthwise_relu[0][0]    \n",
      "__________________________________________________________________________________________________\n",
      "block_10_project_BN (BatchNorma (None, 2, 2, 96)     384         block_10_project[0][0]           \n",
      "__________________________________________________________________________________________________\n",
      "block_11_expand (Conv2D)        (None, 2, 2, 576)    55296       block_10_project_BN[0][0]        \n",
      "__________________________________________________________________________________________________\n",
      "block_11_expand_BN (BatchNormal (None, 2, 2, 576)    2304        block_11_expand[0][0]            \n",
      "__________________________________________________________________________________________________\n",
      "block_11_expand_relu (ReLU)     (None, 2, 2, 576)    0           block_11_expand_BN[0][0]         \n",
      "__________________________________________________________________________________________________\n",
      "block_11_depthwise (DepthwiseCo (None, 2, 2, 576)    5184        block_11_expand_relu[0][0]       \n",
      "__________________________________________________________________________________________________\n",
      "block_11_depthwise_BN (BatchNor (None, 2, 2, 576)    2304        block_11_depthwise[0][0]         \n",
      "__________________________________________________________________________________________________\n",
      "block_11_depthwise_relu (ReLU)  (None, 2, 2, 576)    0           block_11_depthwise_BN[0][0]      \n",
      "__________________________________________________________________________________________________\n",
      "block_11_project (Conv2D)       (None, 2, 2, 96)     55296       block_11_depthwise_relu[0][0]    \n",
      "__________________________________________________________________________________________________\n",
      "block_11_project_BN (BatchNorma (None, 2, 2, 96)     384         block_11_project[0][0]           \n",
      "__________________________________________________________________________________________________\n",
      "block_11_add (Add)              (None, 2, 2, 96)     0           block_10_project_BN[0][0]        \n",
      "                                                                 block_11_project_BN[0][0]        \n",
      "__________________________________________________________________________________________________\n",
      "block_12_expand (Conv2D)        (None, 2, 2, 576)    55296       block_11_add[0][0]               \n",
      "__________________________________________________________________________________________________\n",
      "block_12_expand_BN (BatchNormal (None, 2, 2, 576)    2304        block_12_expand[0][0]            \n",
      "__________________________________________________________________________________________________\n",
      "block_12_expand_relu (ReLU)     (None, 2, 2, 576)    0           block_12_expand_BN[0][0]         \n",
      "__________________________________________________________________________________________________\n",
      "block_12_depthwise (DepthwiseCo (None, 2, 2, 576)    5184        block_12_expand_relu[0][0]       \n",
      "__________________________________________________________________________________________________\n",
      "block_12_depthwise_BN (BatchNor (None, 2, 2, 576)    2304        block_12_depthwise[0][0]         \n",
      "__________________________________________________________________________________________________\n",
      "block_12_depthwise_relu (ReLU)  (None, 2, 2, 576)    0           block_12_depthwise_BN[0][0]      \n",
      "__________________________________________________________________________________________________\n",
      "block_12_project (Conv2D)       (None, 2, 2, 96)     55296       block_12_depthwise_relu[0][0]    \n",
      "__________________________________________________________________________________________________\n",
      "block_12_project_BN (BatchNorma (None, 2, 2, 96)     384         block_12_project[0][0]           \n",
      "__________________________________________________________________________________________________\n",
      "block_12_add (Add)              (None, 2, 2, 96)     0           block_11_add[0][0]               \n",
      "                                                                 block_12_project_BN[0][0]        \n",
      "__________________________________________________________________________________________________\n",
      "block_13_expand (Conv2D)        (None, 2, 2, 576)    55296       block_12_add[0][0]               \n",
      "__________________________________________________________________________________________________\n",
      "block_13_expand_BN (BatchNormal (None, 2, 2, 576)    2304        block_13_expand[0][0]            \n",
      "__________________________________________________________________________________________________\n",
      "block_13_expand_relu (ReLU)     (None, 2, 2, 576)    0           block_13_expand_BN[0][0]         \n",
      "__________________________________________________________________________________________________\n",
      "block_13_pad (ZeroPadding2D)    (None, 3, 3, 576)    0           block_13_expand_relu[0][0]       \n",
      "__________________________________________________________________________________________________\n",
      "block_13_depthwise (DepthwiseCo (None, 1, 1, 576)    5184        block_13_pad[0][0]               \n",
      "__________________________________________________________________________________________________\n",
      "block_13_depthwise_BN (BatchNor (None, 1, 1, 576)    2304        block_13_depthwise[0][0]         \n",
      "__________________________________________________________________________________________________\n",
      "block_13_depthwise_relu (ReLU)  (None, 1, 1, 576)    0           block_13_depthwise_BN[0][0]      \n",
      "__________________________________________________________________________________________________\n",
      "block_13_project (Conv2D)       (None, 1, 1, 160)    92160       block_13_depthwise_relu[0][0]    \n",
      "__________________________________________________________________________________________________\n",
      "block_13_project_BN (BatchNorma (None, 1, 1, 160)    640         block_13_project[0][0]           \n",
      "__________________________________________________________________________________________________\n",
      "block_14_expand (Conv2D)        (None, 1, 1, 960)    153600      block_13_project_BN[0][0]        \n",
      "__________________________________________________________________________________________________\n",
      "block_14_expand_BN (BatchNormal (None, 1, 1, 960)    3840        block_14_expand[0][0]            \n",
      "__________________________________________________________________________________________________\n",
      "block_14_expand_relu (ReLU)     (None, 1, 1, 960)    0           block_14_expand_BN[0][0]         \n",
      "__________________________________________________________________________________________________\n",
      "block_14_depthwise (DepthwiseCo (None, 1, 1, 960)    8640        block_14_expand_relu[0][0]       \n",
      "__________________________________________________________________________________________________\n",
      "block_14_depthwise_BN (BatchNor (None, 1, 1, 960)    3840        block_14_depthwise[0][0]         \n",
      "__________________________________________________________________________________________________\n",
      "block_14_depthwise_relu (ReLU)  (None, 1, 1, 960)    0           block_14_depthwise_BN[0][0]      \n",
      "__________________________________________________________________________________________________\n",
      "block_14_project (Conv2D)       (None, 1, 1, 160)    153600      block_14_depthwise_relu[0][0]    \n",
      "__________________________________________________________________________________________________\n",
      "block_14_project_BN (BatchNorma (None, 1, 1, 160)    640         block_14_project[0][0]           \n",
      "__________________________________________________________________________________________________\n",
      "block_14_add (Add)              (None, 1, 1, 160)    0           block_13_project_BN[0][0]        \n",
      "                                                                 block_14_project_BN[0][0]        \n",
      "__________________________________________________________________________________________________\n",
      "block_15_expand (Conv2D)        (None, 1, 1, 960)    153600      block_14_add[0][0]               \n",
      "__________________________________________________________________________________________________\n",
      "block_15_expand_BN (BatchNormal (None, 1, 1, 960)    3840        block_15_expand[0][0]            \n",
      "__________________________________________________________________________________________________\n",
      "block_15_expand_relu (ReLU)     (None, 1, 1, 960)    0           block_15_expand_BN[0][0]         \n",
      "__________________________________________________________________________________________________\n",
      "block_15_depthwise (DepthwiseCo (None, 1, 1, 960)    8640        block_15_expand_relu[0][0]       \n",
      "__________________________________________________________________________________________________\n",
      "block_15_depthwise_BN (BatchNor (None, 1, 1, 960)    3840        block_15_depthwise[0][0]         \n",
      "__________________________________________________________________________________________________\n",
      "block_15_depthwise_relu (ReLU)  (None, 1, 1, 960)    0           block_15_depthwise_BN[0][0]      \n",
      "__________________________________________________________________________________________________\n",
      "block_15_project (Conv2D)       (None, 1, 1, 160)    153600      block_15_depthwise_relu[0][0]    \n",
      "__________________________________________________________________________________________________\n",
      "block_15_project_BN (BatchNorma (None, 1, 1, 160)    640         block_15_project[0][0]           \n",
      "__________________________________________________________________________________________________\n",
      "block_15_add (Add)              (None, 1, 1, 160)    0           block_14_add[0][0]               \n",
      "                                                                 block_15_project_BN[0][0]        \n",
      "__________________________________________________________________________________________________\n",
      "block_16_expand (Conv2D)        (None, 1, 1, 960)    153600      block_15_add[0][0]               \n",
      "__________________________________________________________________________________________________\n",
      "block_16_expand_BN (BatchNormal (None, 1, 1, 960)    3840        block_16_expand[0][0]            \n",
      "__________________________________________________________________________________________________\n",
      "block_16_expand_relu (ReLU)     (None, 1, 1, 960)    0           block_16_expand_BN[0][0]         \n",
      "__________________________________________________________________________________________________\n",
      "block_16_depthwise (DepthwiseCo (None, 1, 1, 960)    8640        block_16_expand_relu[0][0]       \n",
      "__________________________________________________________________________________________________\n",
      "block_16_depthwise_BN (BatchNor (None, 1, 1, 960)    3840        block_16_depthwise[0][0]         \n",
      "__________________________________________________________________________________________________\n",
      "block_16_depthwise_relu (ReLU)  (None, 1, 1, 960)    0           block_16_depthwise_BN[0][0]      \n",
      "__________________________________________________________________________________________________\n",
      "block_16_project (Conv2D)       (None, 1, 1, 320)    307200      block_16_depthwise_relu[0][0]    \n",
      "__________________________________________________________________________________________________\n",
      "block_16_project_BN (BatchNorma (None, 1, 1, 320)    1280        block_16_project[0][0]           \n",
      "__________________________________________________________________________________________________\n",
      "Conv_1 (Conv2D)                 (None, 1, 1, 1280)   409600      block_16_project_BN[0][0]        \n",
      "__________________________________________________________________________________________________\n",
      "Conv_1_bn (BatchNormalization)  (None, 1, 1, 1280)   5120        Conv_1[0][0]                     \n",
      "__________________________________________________________________________________________________\n",
      "out_relu (ReLU)                 (None, 1, 1, 1280)   0           Conv_1_bn[0][0]                  \n",
      "==================================================================================================\n",
      "Total params: 2,257,984\n",
      "Trainable params: 720,000\n",
      "Non-trainable params: 1,537,984\n",
      "__________________________________________________________________________________________________\n"
     ]
    }
   ],
   "source": [
    "InMod.summary()"
   ]
  },
  {
   "cell_type": "code",
   "execution_count": 14,
   "id": "c66be03a",
   "metadata": {},
   "outputs": [],
   "source": [
    "es=ks.callbacks.EarlyStopping(\n",
    "    monitor='val_loss', min_delta=0, \n",
    "    patience=1, verbose=0, mode='max',\n",
    "    baseline=None, restore_best_weights=True\n",
    ")"
   ]
  },
  {
   "cell_type": "code",
   "execution_count": 15,
   "id": "63abc3c6",
   "metadata": {},
   "outputs": [],
   "source": [
    "opt=ks.optimizers.Adam(learning_rate=0.01)\n",
    "model.compile(loss = 'categorical_crossentropy', optimizer =opt, metrics = ['accuracy'],callbacks=es)"
   ]
  },
  {
   "cell_type": "code",
   "execution_count": null,
   "id": "0997654a",
   "metadata": {},
   "outputs": [],
   "source": [
    "x_valid_nor.shape"
   ]
  },
  {
   "cell_type": "code",
   "execution_count": 16,
   "id": "c86e1ffc",
   "metadata": {},
   "outputs": [
    {
     "ename": "NameError",
     "evalue": "name 'x_train_nor' is not defined",
     "output_type": "error",
     "traceback": [
      "\u001b[0;31m---------------------------------------------------------------------------\u001b[0m",
      "\u001b[0;31mNameError\u001b[0m                                 Traceback (most recent call last)",
      "\u001b[0;32m/var/folders/st/pp54nngn5_nb9_fwpky3f5w00000gn/T/ipykernel_3566/536617718.py\u001b[0m in \u001b[0;36m<module>\u001b[0;34m\u001b[0m\n\u001b[0;32m----> 1\u001b[0;31m history = model.fit(x_train_nor,y_train_oh,batch_size=64\n\u001b[0m\u001b[1;32m      2\u001b[0m                         ,epochs =30,validation_data =(x_valid_nor,y_valid_oh),shuffle=True)\n\u001b[1;32m      3\u001b[0m \u001b[0;34m\u001b[0m\u001b[0m\n",
      "\u001b[0;31mNameError\u001b[0m: name 'x_train_nor' is not defined"
     ]
    }
   ],
   "source": [
    "history = model.fit(x_train_nor,y_train_oh,batch_size=64\n",
    "                        ,epochs =30,validation_data =(x_valid_nor,y_valid_oh),shuffle=True)\n",
    "                    "
   ]
  },
  {
   "cell_type": "code",
   "execution_count": null,
   "id": "310d7628",
   "metadata": {
    "scrolled": true
   },
   "outputs": [],
   "source": [
    "pd.DataFrame(history.history).plot(figsize = (8, 5))\n",
    "plt.grid(True)\n",
    "plt.gca().set_ylim(0, 1)\n",
    "\n",
    "plt.show()"
   ]
  },
  {
   "cell_type": "code",
   "execution_count": null,
   "id": "6e00c562",
   "metadata": {},
   "outputs": [],
   "source": [
    "a=model.predict(x_test_nor)\n",
    "predictionst=np.argmax(a,axis=1)\n",
    "predictionst\n"
   ]
  },
  {
   "cell_type": "code",
   "execution_count": null,
   "id": "4d6dae8f",
   "metadata": {},
   "outputs": [],
   "source": [
    "y_test_label"
   ]
  },
  {
   "cell_type": "code",
   "execution_count": null,
   "id": "c3d28fdc",
   "metadata": {},
   "outputs": [],
   "source": [
    "accuracy = np.mean(predictionst == y_test_label)\n",
    "print(\"Prediction Accuracy: %.2f%%\" % (accuracy * 100))"
   ]
  },
  {
   "cell_type": "code",
   "execution_count": null,
   "id": "2fb55d7b",
   "metadata": {},
   "outputs": [],
   "source": [
    "pd.crosstab(y_test, predictionst, rownames=['Actual'], colnames=['Predicted'])\n"
   ]
  },
  {
   "cell_type": "code",
   "execution_count": null,
   "id": "a07d8669",
   "metadata": {},
   "outputs": [],
   "source": [
    "model = Sequential()\n",
    "model.add(Conv2D(16,(3,3),activation = 'relu', padding = 'same',input_shape = (32,32,3)))\n",
    "model.add(MaxPooling2D((2,2)))\n",
    "\n",
    "model.add(Conv2D(32,(3,3),activation = 'relu', padding = 'same'))\n",
    "model.add(MaxPooling2D((2,2)))\n",
    "\n",
    "model.add(Flatten())\n",
    "model.add(Dropout(0.4))\n",
    "model.add(Dense(7,activation = 'softmax'))\n",
    "model.summary()\n",
    "\n",
    "\n"
   ]
  },
  {
   "cell_type": "code",
   "execution_count": null,
   "id": "c4418236",
   "metadata": {},
   "outputs": [],
   "source": [
    "opt=ks.optimizers.Adam(learning_rate=0.001)\n",
    "model.compile(loss = 'categorical_crossentropy', optimizer =opt, metrics = ['accuracy'],callbacks=es)"
   ]
  },
  {
   "cell_type": "code",
   "execution_count": null,
   "id": "70424e8f",
   "metadata": {},
   "outputs": [],
   "source": [
    "history = model.fit(x_train_nor,y_train_oh,batch_size=64\n",
    "                        ,epochs =50,validation_data =(x_valid_nor,y_valid_oh),shuffle=True)\n",
    "                    "
   ]
  },
  {
   "cell_type": "code",
   "execution_count": null,
   "id": "067c5131",
   "metadata": {},
   "outputs": [],
   "source": [
    "pd.DataFrame(history.history).plot(figsize = (8, 5))\n",
    "plt.grid(True)\n",
    "plt.gca().set_ylim(0, 1)\n",
    "\n",
    "plt.show()"
   ]
  },
  {
   "cell_type": "code",
   "execution_count": null,
   "id": "66ddaa99",
   "metadata": {},
   "outputs": [],
   "source": [
    "a=model.predict(x_test_nor)\n",
    "predictionst=np.argmax(a,axis=1)\n",
    "predictionst\n"
   ]
  },
  {
   "cell_type": "code",
   "execution_count": null,
   "id": "d56d4291",
   "metadata": {},
   "outputs": [],
   "source": [
    "accuracy = np.mean(predictionst == y_test_label)\n",
    "print(\"Prediction Accuracy: %.2f%%\" % (accuracy * 100))"
   ]
  },
  {
   "cell_type": "code",
   "execution_count": null,
   "id": "a448e2b4",
   "metadata": {},
   "outputs": [],
   "source": [
    "from sklearn.metrics import confusion_matrix , classification_report\n",
    "import seaborn as sns"
   ]
  },
  {
   "cell_type": "code",
   "execution_count": null,
   "id": "19ce584a",
   "metadata": {},
   "outputs": [],
   "source": [
    "print(classification_report(y_test_label , predictionst ))"
   ]
  },
  {
   "cell_type": "code",
   "execution_count": null,
   "id": "73862e09",
   "metadata": {},
   "outputs": [],
   "source": [
    "cm = confusion_matrix(y_test_label, predictionst)\n",
    "cm = pd.DataFrame(cm , index = [i for i in range(7)] , columns = [i for i in range(7)])\n",
    "plt.figure(figsize = (10,10))\n",
    "sns.heatmap(cm,cmap= \"Blues\", linecolor = 'black' , linewidth = 2 , annot = True, fmt='')\n",
    "plt.xlabel('Predict', fontsize = 15)\n",
    "plt.ylabel('Actual', fontsize = 15)"
   ]
  }
 ],
 "metadata": {
  "kernelspec": {
   "display_name": "py37",
   "language": "python",
   "name": "py37"
  },
  "language_info": {
   "codemirror_mode": {
    "name": "ipython",
    "version": 3
   },
   "file_extension": ".py",
   "mimetype": "text/x-python",
   "name": "python",
   "nbconvert_exporter": "python",
   "pygments_lexer": "ipython3",
   "version": "3.7.13"
  }
 },
 "nbformat": 4,
 "nbformat_minor": 5
}
